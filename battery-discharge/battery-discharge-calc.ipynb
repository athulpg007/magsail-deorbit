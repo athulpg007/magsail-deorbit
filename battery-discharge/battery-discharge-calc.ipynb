{
 "cells": [
  {
   "cell_type": "code",
   "execution_count": 1,
   "metadata": {},
   "outputs": [],
   "source": [
    "import numpy as np"
   ]
  },
  {
   "cell_type": "code",
   "execution_count": 2,
   "metadata": {},
   "outputs": [],
   "source": [
    "import matplotlib.pyplot as plt"
   ]
  },
  {
   "cell_type": "code",
   "execution_count": 3,
   "metadata": {},
   "outputs": [],
   "source": [
    "orbit_period  = 1.55 # hours\n",
    "sunlit_period = 0.95 # hours\n",
    "\n",
    "solar_power   = 1.90 # W\n",
    "\n",
    "init_charge_period = 10.0 # hours\n",
    "\n",
    "magsail_cycle      = 1.55 # hours\n",
    "magsail_on_hours   = 1.55 # hours\n",
    "\n",
    "magsail_cycle_long = 72 # hours\n",
    "magsail_on_long    = 60 # hours\n",
    "\n",
    "magsail_power      = 0.75\n",
    "OBH_power          = 0.3\n",
    "TX_power           = 0.2\n",
    "RX_power           = 0.0\n",
    "EPS_power          = 0.1\n",
    "\n",
    "\n",
    "transmitter_cycle    = 60.0/3600.0\n",
    "transmitter_on_hours =  0.5/3600.0 # hours\n",
    "\n",
    "receiver_cycle       = 60.0/3600.0\n",
    "receiver_on_hours =  1.0/3600.0 # hours\n",
    "\n",
    "gps_cycle           = 1.0\n",
    "gps_on_hours        = 3.0/60.0\n",
    "\n",
    "gps_power    = 0.15\n",
    "\n",
    "simulate_orbits      = 200.0\n",
    "N                    = 100001\n",
    "\n",
    "sim_time             = simulate_orbits*orbit_period\n",
    "\n",
    "E0                   = 0.0 # Wh\"\n",
    "\n",
    "battery_Wh           = 3.7"
   ]
  },
  {
   "cell_type": "code",
   "execution_count": 4,
   "metadata": {},
   "outputs": [],
   "source": [
    "def P_GEN(t):\n",
    "    \n",
    "    if t%orbit_period<sunlit_period:\n",
    "        return solar_power \n",
    "    else:\n",
    "        return 0"
   ]
  },
  {
   "cell_type": "code",
   "execution_count": 5,
   "metadata": {},
   "outputs": [],
   "source": [
    "def P_MAG(t):\n",
    "    \n",
    "    if t < init_charge_period:\n",
    "        return 0\n",
    "    \n",
    "    #elif t%1.55 < 1.15:\n",
    "    #    return 3.0\n",
    "    \n",
    "    else:\n",
    "        if t%magsail_cycle < magsail_on_hours:\n",
    "            return magsail_power\n",
    "        else:\n",
    "            return 0.0"
   ]
  },
  {
   "cell_type": "code",
   "execution_count": 6,
   "metadata": {},
   "outputs": [],
   "source": [
    "def P_OBH(t):\n",
    "    if t < init_charge_period:\n",
    "        return 0\n",
    "    \n",
    "    return OBH_power "
   ]
  },
  {
   "cell_type": "code",
   "execution_count": 7,
   "metadata": {},
   "outputs": [],
   "source": [
    "def P_TXO(t):\n",
    "    \n",
    "    if t%transmitter_cycle < transmitter_on_hours:\n",
    "        return TX_power\n",
    "    else:\n",
    "        return 0"
   ]
  },
  {
   "cell_type": "code",
   "execution_count": 8,
   "metadata": {},
   "outputs": [],
   "source": [
    "def P_RXO(t):\n",
    "    if t%receiver_cycle < receiver_on_hours:\n",
    "        return RX_power\n",
    "    else:\n",
    "        return 0"
   ]
  },
  {
   "cell_type": "code",
   "execution_count": 9,
   "metadata": {},
   "outputs": [],
   "source": [
    "def P_EPS(t):\n",
    "    if t < init_charge_period:\n",
    "        return 0\n",
    "    \n",
    "    return EPS_power"
   ]
  },
  {
   "cell_type": "code",
   "execution_count": 10,
   "metadata": {},
   "outputs": [],
   "source": [
    "def P_GPS(t):\n",
    "    \n",
    "    if t%gps_cycle < gps_on_hours:\n",
    "        return gps_power\n",
    "    else:\n",
    "        return 0"
   ]
  },
  {
   "cell_type": "code",
   "execution_count": 11,
   "metadata": {},
   "outputs": [],
   "source": [
    "def f(t):\n",
    "    \n",
    "    dydt = P_GEN(t) - P_MAG(t) - P_OBH(t) - P_TXO(t) - P_RXO(t) - P_EPS(t) - P_GPS(t)\n",
    "    \n",
    "    return dydt"
   ]
  },
  {
   "cell_type": "code",
   "execution_count": 12,
   "metadata": {},
   "outputs": [],
   "source": [
    "def solve_battery_level(E0, t_hours, N):\n",
    "    \n",
    "    t = np.linspace(0,t_hours, N)\n",
    "    E = np.zeros(N)\n",
    "    \n",
    "    dt = t_hours/N\n",
    "    \n",
    "    E[0] = E0\n",
    "    \n",
    "    \n",
    "    for i in range(0,N-1):\n",
    "        \n",
    "        E[i+1] = E[i] + f(t[i])*dt\n",
    "        \n",
    "        if E[i+1] > battery_Wh:\n",
    "            E[i+1] = battery_Wh\n",
    "        elif E[i+1] < 0:\n",
    "            E[i+1] = 0\n",
    "        \n",
    "    \n",
    "    return t, E"
   ]
  },
  {
   "cell_type": "code",
   "execution_count": 14,
   "metadata": {},
   "outputs": [
    {
     "data": {
      "image/png": "[encoded data removed]",
      "text/plain": [
       "<Figure size 720x432 with 1 Axes>"
      ]
     },
     "metadata": {
      "needs_background": "light"
     },
     "output_type": "display_data"
    }
   ],
   "source": [
    "t0, E = solve_battery_level(E0, sim_time, N)\n",
    "\n",
    "plt.figure(figsize=(10,6))\n",
    "plt.plot(t0/orbit_period, E, color='r', linewidth=2.0)\n",
    "\n",
    "N = 100001\n",
    "\n",
    "P_MAG1 = np.zeros(N)\n",
    "\n",
    "for i in range(0,N):\n",
    "    P_MAG1[i] = P_MAG(t0[i])*2.0\n",
    "    \n",
    "#plt.plot(t0/orbit_period, P_MAG1-1, marker='o', markerfacecolor='None', markeredgecolor='m',linestyle = 'None', linewidth=1.0)\n",
    "\n",
    "\n",
    "plt.rc('font',family='Times New Roman')\n",
    "params = {'mathtext.default': 'regular' }\n",
    "plt.rcParams.update(params)\n",
    "\n",
    "ax = plt.gca()\n",
    "\n",
    "ax.tick_params(direction='in')\n",
    "ax.yaxis.set_ticks_position('both')\n",
    "\n",
    "ax.xaxis.set_ticks_position('both')\n",
    "ax.tick_params(axis='x',labelsize=18)\n",
    "ax.tick_params(axis='y',labelsize=18)\n",
    "\n",
    "\n",
    "ax.xaxis.set_tick_params(direction='in', which='both')\n",
    "ax.yaxis.set_tick_params(direction='in', which='both')\n",
    "\n",
    "ax.xaxis.set_tick_params(width=2, length=8)\n",
    "ax.yaxis.set_tick_params(width=2, length=8)\n",
    "\n",
    "ax.xaxis.set_tick_params(width=1, length=6, which='minor')\n",
    "ax.yaxis.set_tick_params(width=1, length=6, which='minor')\n",
    "\n",
    "\n",
    "ax.xaxis.grid(which='major', color='k', linestyle='dotted', linewidth=0.5)\n",
    "ax.xaxis.grid(which='minor', color='k', linestyle='dotted', linewidth=0.5)\n",
    "\n",
    "ax.yaxis.grid(which='major', color='k', linestyle='dotted', linewidth=0.5)\n",
    "ax.yaxis.grid(which='minor', color='k', linestyle='dotted', linewidth=0.0)\n",
    "\n",
    "plt.xlabel('# of orbits', fontsize=18)\n",
    "plt.ylabel('Battery charge level, Wh', fontsize=18)\n",
    "\n",
    "#plt.ylim([-0.0,4.0])\n",
    "#plt.legend(loc='upper left', fontsize=18,  framealpha=0)\n",
    "#plt.xlim([20,40])\n",
    "\n",
    "\n",
    "for axis in ['top', 'bottom', 'left', 'right']:\n",
    "    ax.spines[axis].set_linewidth(2)\n",
    "    \n",
    "#plt.savefig('../new_plots/battery-discharge-06-3.6Wh.png', dpi=300,bbox_inches='tight')\n",
    "#plt.savefig('../new_plots/battery-discharge-06-3.6Wh.pdf', dpi=300,bbox_inches='tight')\n",
    "#plt.savefig('../new_plots/battery-discharge-06-3.6Wh.eps', dpi=300,bbox_inches='tight')"
   ]
  }
 ],
 "metadata": {
  "kernelspec": {
   "display_name": "Python 3",
   "language": "python",
   "name": "python3"
  },
  "language_info": {
   "codemirror_mode": {
    "name": "ipython",
    "version": 3
   },
   "file_extension": ".py",
   "mimetype": "text/x-python",
   "name": "python",
   "nbconvert_exporter": "python",
   "pygments_lexer": "ipython3",
   "version": "3.8.5"
  }
 },
 "nbformat": 4,
 "nbformat_minor": 4
}
