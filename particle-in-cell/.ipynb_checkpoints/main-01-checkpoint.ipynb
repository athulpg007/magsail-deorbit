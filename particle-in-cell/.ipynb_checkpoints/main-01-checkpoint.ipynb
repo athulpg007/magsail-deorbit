{
 "cells": [
  {
   "cell_type": "code",
   "execution_count": 1,
   "metadata": {},
   "outputs": [],
   "source": [
    "from world import World\n",
    "from species import Species\n",
    "import numpy as np"
   ]
  },
  {
   "cell_type": "code",
   "execution_count": null,
   "metadata": {},
   "outputs": [
    {
     "name": "stdout",
     "output_type": "stream",
     "text": [
      "ts = 1, nO+: 68921, ne-: 9261\n",
      "ts = 2, nO+: 68921, ne-: 9261\n",
      "ts = 3, nO+: 68921, ne-: 9261\n",
      "ts = 4, nO+: 68921, ne-: 9261\n",
      "ts = 5, nO+: 68921, ne-: 9261\n",
      "ts = 6, nO+: 68921, ne-: 9261\n",
      "ts = 7, nO+: 68921, ne-: 9261\n",
      "ts = 8, nO+: 68921, ne-: 9261\n"
     ]
    }
   ],
   "source": [
    "world=World(21,21,21)\n",
    "world.setTime(2E-10,100)\n",
    "world.setExtents(-0.1, -0.1, 0.0 , 0.1, 0.1, 0.2)\n",
    "\n",
    "species1 = Species(\"O+\", 16*world.AMU, world.QE, world)\n",
    "species2 = Species(\"e-\", world.ME, -1.0*world.QE, world)\n",
    "\n",
    "world.addSpeciesList([species1,species2])\n",
    "\n",
    "species1.loadParticlesBoxQS(world.x0, world.xm, 1E11, [41, 41, 41])\n",
    "species2.loadParticlesBoxQS(world.x0, world.xc, 1E11, [21, 21, 21])\n",
    "\n",
    "species1.computeNumberDensity()\n",
    "species2.computeNumberDensity()\n",
    "\n",
    "world.computeChargeDensity()\n",
    "\n",
    "world.potentialSolver(10000, 1E-4)\n",
    "\n",
    "world.efSolver()\n",
    "\n",
    "for i in range(1,10001):\n",
    "    species1.advance()\n",
    "    species2.advance()\n",
    "\n",
    "    species1.computeNumberDensity()\n",
    "    species2.computeNumberDensity()\n",
    "\n",
    "    world.computeChargeDensity()\n",
    "\n",
    "    world.potentialSolver(10000, 1E-4)\n",
    "\n",
    "    world.efSolver()\n",
    "    \n",
    "    print(\"ts = \"+str(i)+\", nO+: \"+str(len(species1.particleList))+\", ne-: \"+str(len(species2.particleList)))\n",
    "    \n",
    "    if i==1 or i%500==0:\n",
    "        \n",
    "        x_arr1 = np.zeros(len(species1.particleList))\n",
    "        y_arr1 = np.zeros(len(species1.particleList))\n",
    "        z_arr1 = np.zeros(len(species1.particleList))\n",
    "\n",
    "        x_arr2 = np.zeros(len(species2.particleList))\n",
    "        y_arr2 = np.zeros(len(species2.particleList))\n",
    "        z_arr2 = np.zeros(len(species2.particleList))\n",
    "\n",
    "        for j in np.arange(0,len(species1.particleList)):\n",
    "            pos = species1.particleList[j].pos\n",
    "            x_arr1[j] = pos[0]\n",
    "            y_arr1[j] = pos[1]\n",
    "            z_arr1[j] = pos[2]\n",
    "\n",
    "        for j in np.arange(0,len(species2.particleList)):\n",
    "            pos = species2.particleList[j].pos\n",
    "            x_arr2[j] = pos[0]\n",
    "            y_arr2[j] = pos[1]\n",
    "            z_arr2[j] = pos[2]\n",
    "            \n",
    "        np.savetxt('species_1_x_'+str(i).zfill(5)+'.txt', x_arr1, fmt='%1.4f')\n",
    "        np.savetxt('species_1_y_'+str(i).zfill(5)+'.txt', y_arr1, fmt='%1.4f')\n",
    "        np.savetxt('species_1_z_'+str(i).zfill(5)+'.txt', z_arr1, fmt='%1.4f')\n",
    "        \n",
    "        np.savetxt('species_2_x_'+str(i).zfill(5)+'.txt', x_arr2, fmt='%1.4f')\n",
    "        np.savetxt('species_2_y_'+str(i).zfill(5)+'.txt', y_arr2, fmt='%1.4f')\n",
    "        np.savetxt('species_2_z_'+str(i).zfill(5)+'.txt', z_arr2, fmt='%1.4f')"
   ]
  },
  {
   "cell_type": "code",
   "execution_count": null,
   "metadata": {},
   "outputs": [],
   "source": []
  }
 ],
 "metadata": {
  "kernelspec": {
   "display_name": "Python 3",
   "language": "python",
   "name": "python3"
  },
  "language_info": {
   "codemirror_mode": {
    "name": "ipython",
    "version": 3
   },
   "file_extension": ".py",
   "mimetype": "text/x-python",
   "name": "python",
   "nbconvert_exporter": "python",
   "pygments_lexer": "ipython3",
   "version": "3.8.5"
  }
 },
 "nbformat": 4,
 "nbformat_minor": 4
}
